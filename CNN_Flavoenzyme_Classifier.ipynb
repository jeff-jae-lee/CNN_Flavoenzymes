{
  "cells": [
    {
      "cell_type": "code",
      "execution_count": null,
      "metadata": {
        "colab": {
          "background_save": true
        },
        "id": "qJHx1x4dTdd0"
      },
      "outputs": [],
      "source": [
        "# Import Libraries\n",
        "from scipy import misc\n",
        "import numpy as np\n",
        "import tensorflow as tf\n",
        "from tensorflow.keras import datasets, layers, models\n",
        "import logging\n",
        "tf.get_logger().setLevel(logging.ERROR)\n",
        "import random\n",
        "import matplotlib.pyplot as plt\n",
        "import matplotlib as mp\n",
        "import pandas as pd\n",
        "from sklearn.preprocessing import LabelEncoder\n",
        "import imageio\n",
        "import ssl\n",
        "import os, sys\n",
        "from PIL import Image\n",
        "import glob\n",
        "ssl._create_default_https_context = ssl._create_unverified_context\n"
      ]
    },
    {
      "cell_type": "code",
      "execution_count": null,
      "metadata": {
        "id": "LrcTv1ZVTdd2",
        "outputId": "729ed4a1-8acc-400f-9064-c0e8578b5df1"
      },
      "outputs": [
        {
          "name": "stdout",
          "output_type": "stream",
          "text": [
            "2.7.0\n"
          ]
        }
      ],
      "source": [
        "print(tf.__version__)"
      ]
    },
    {
      "cell_type": "code",
      "execution_count": null,
      "metadata": {
        "id": "s8S5c9xVTdd4"
      },
      "outputs": [],
      "source": [
        "path = './Free/'"
      ]
    },
    {
      "cell_type": "code",
      "execution_count": null,
      "metadata": {
        "id": "e3wqtwuNTdd4",
        "outputId": "cca1cce8-9897-4f8c-f425-fbccac4a5ae5"
      },
      "outputs": [
        {
          "name": "stdout",
          "output_type": "stream",
          "text": [
            "Found 1924 files belonging to 2 classes.\n"
          ]
        }
      ],
      "source": [
        "train_ds = tf.keras.preprocessing.image_dataset_from_directory(\n",
        "    path,\n",
        "    labels = 'inferred',\n",
        "    label_mode = 'binary',\n",
        "    class_names = ['0', '1'],\n",
        "    color_mode = 'grayscale',\n",
        "    batch_size = 32,\n",
        "    image_size = (28,28),\n",
        "    shuffle = True,\n",
        "    seed = 1337,\n",
        "    validation_split = 0.1,\n",
        "    subset = 'training')"
      ]
    },
    {
      "cell_type": "code",
      "execution_count": null,
      "metadata": {
        "id": "dQ6fN_abTdd5",
        "outputId": "576ba5b5-a741-44f4-81a5-e101d502b54e"
      },
      "outputs": [
        {
          "name": "stdout",
          "output_type": "stream",
          "text": [
            "Found 1924 files belonging to 2 classes.\n"
          ]
        }
      ],
      "source": [
        "val_ds = tf.keras.preprocessing.image_dataset_from_directory(\n",
        "    path,\n",
        "    labels = 'inferred',\n",
        "    label_mode = 'binary',\n",
        "    class_names = ['0', '1'],\n",
        "    color_mode = 'grayscale',\n",
        "    batch_size = 32, image_size = (28,28),\n",
        "    shuffle = True, seed = 1337, validation_split = 0.1,\n",
        "    subset = 'validation')"
      ]
    },
    {
      "cell_type": "code",
      "execution_count": null,
      "metadata": {
        "id": "h4C4oXvUTdd5"
      },
      "outputs": [],
      "source": [
        "test_ds = tf.keras.preprocessing.image_dataset_from_directory(\n",
        "    path, labels = 'inferred',\n",
        "    label_mode = 'binary',\n",
        "    class_names = ['0', '1'],\n",
        "    color_mode = 'grayscale',\n",
        "    batch_size = 32,\n",
        "    image_size = (28,28),\n",
        "    shuffle = True,\n",
        "    seed = 1337,\n",
        "    validation_split = 0.1,\n",
        "    subset = 'validation')"
      ]
    },
    {
      "cell_type": "code",
      "execution_count": null,
      "metadata": {
        "id": "ZAsO-Ku1AoFL"
      },
      "outputs": [],
      "source": []
    },
    {
      "cell_type": "code",
      "execution_count": null,
      "metadata": {
        "id": "AJBjKpcLTdd6",
        "outputId": "1dfcfd7f-a267-42f9-d0c6-4a7666fbf231"
      },
      "outputs": [
        {
          "name": "stdout",
          "output_type": "stream",
          "text": [
            "(32, 28, 28, 1)\n",
            "(32, 1)\n"
          ]
        }
      ],
      "source": [
        "for image_batch, labels_batch in train_ds:\n",
        "  print(image_batch.shape)\n",
        "  print(labels_batch.shape)\n",
        "  break"
      ]
    },
    {
      "cell_type": "code",
      "execution_count": null,
      "metadata": {
        "id": "LQg5FEE9Tdd6"
      },
      "outputs": [],
      "source": [
        "AUTOTUNE = tf.data.AUTOTUNE\n",
        "\n",
        "train_ds = train_ds.cache().shuffle(1000).prefetch(buffer_size = AUTOTUNE)\n",
        "val_ds = val_ds.cache().prefetch(buffer_size = AUTOTUNE)"
      ]
    },
    {
      "cell_type": "code",
      "execution_count": null,
      "metadata": {
        "id": "zjyIfiAKTdd6"
      },
      "outputs": [],
      "source": [
        "from keras.models import Sequential\n",
        "num_classes = 2\n",
        "\n",
        "model = Sequential([\n",
        "  layers.Rescaling(1./255, input_shape=(28, 28, 1)),\n",
        "  layers.Conv2D(16, 3, padding='same', activation='relu'),\n",
        "  layers.MaxPooling2D(),\n",
        "  layers.Conv2D(32, 3, padding='same', activation='relu'),\n",
        "  layers.MaxPooling2D(),\n",
        "  layers.Conv2D(64, 3, padding='same', activation='relu'),\n",
        "  layers.MaxPooling2D(),\n",
        "  layers.Flatten(),\n",
        "  layers.Dense(128, activation='relu'),\n",
        "  layers.Dense(num_classes)\n",
        "])"
      ]
    },
    {
      "cell_type": "code",
      "execution_count": null,
      "metadata": {
        "id": "vSPSzC8UTdd7"
      },
      "outputs": [],
      "source": [
        "model.compile(optimizer = 'adam',\n",
        "              loss=  tf.keras.losses.SparseCategoricalCrossentropy(from_logits=True),\n",
        "              metrics = ['accuracy'])"
      ]
    },
    {
      "cell_type": "code",
      "execution_count": null,
      "metadata": {
        "id": "boW_2DeGTdd7",
        "outputId": "993d77a5-c011-459d-ac04-8f223f2310b2"
      },
      "outputs": [
        {
          "name": "stdout",
          "output_type": "stream",
          "text": [
            "Model: \"sequential_2\"\n",
            "_________________________________________________________________\n",
            " Layer (type)                Output Shape              Param #   \n",
            "=================================================================\n",
            " rescaling_2 (Rescaling)     (None, 28, 28, 1)         0         \n",
            "                                                                 \n",
            " conv2d_6 (Conv2D)           (None, 28, 28, 16)        160       \n",
            "                                                                 \n",
            " max_pooling2d_6 (MaxPooling  (None, 14, 14, 16)       0         \n",
            " 2D)                                                             \n",
            "                                                                 \n",
            " conv2d_7 (Conv2D)           (None, 14, 14, 32)        4640      \n",
            "                                                                 \n",
            " max_pooling2d_7 (MaxPooling  (None, 7, 7, 32)         0         \n",
            " 2D)                                                             \n",
            "                                                                 \n",
            " conv2d_8 (Conv2D)           (None, 7, 7, 64)          18496     \n",
            "                                                                 \n",
            " max_pooling2d_8 (MaxPooling  (None, 3, 3, 64)         0         \n",
            " 2D)                                                             \n",
            "                                                                 \n",
            " flatten_2 (Flatten)         (None, 576)               0         \n",
            "                                                                 \n",
            " dense_4 (Dense)             (None, 128)               73856     \n",
            "                                                                 \n",
            " dense_5 (Dense)             (None, 2)                 258       \n",
            "                                                                 \n",
            "=================================================================\n",
            "Total params: 97,410\n",
            "Trainable params: 97,410\n",
            "Non-trainable params: 0\n",
            "_________________________________________________________________\n"
          ]
        }
      ],
      "source": [
        "model.summary()"
      ]
    },
    {
      "cell_type": "code",
      "execution_count": null,
      "metadata": {
        "id": "cvmj54O4Tdd7",
        "outputId": "03d581ad-44a5-4761-faf6-8c7c51a83b56"
      },
      "outputs": [
        {
          "name": "stdout",
          "output_type": "stream",
          "text": [
            "Epoch 1/50\n",
            "49/49 [==============================] - 0s 10ms/step - loss: 0.5635 - accuracy: 0.7474 - val_loss: 0.5501 - val_accuracy: 0.7604\n",
            "Epoch 2/50\n",
            "49/49 [==============================] - 1s 10ms/step - loss: 0.5652 - accuracy: 0.7474 - val_loss: 0.5476 - val_accuracy: 0.7604\n",
            "Epoch 3/50\n",
            "49/49 [==============================] - 0s 10ms/step - loss: 0.5633 - accuracy: 0.7474 - val_loss: 0.5678 - val_accuracy: 0.7604\n",
            "Epoch 4/50\n",
            "49/49 [==============================] - 0s 9ms/step - loss: 0.5637 - accuracy: 0.7474 - val_loss: 0.5390 - val_accuracy: 0.7604\n",
            "Epoch 5/50\n",
            "49/49 [==============================] - 0s 10ms/step - loss: 0.5390 - accuracy: 0.7474 - val_loss: 0.5202 - val_accuracy: 0.7604\n",
            "Epoch 6/50\n",
            "49/49 [==============================] - 0s 9ms/step - loss: 0.4618 - accuracy: 0.7740 - val_loss: 0.4555 - val_accuracy: 0.8385\n",
            "Epoch 7/50\n",
            "49/49 [==============================] - 1s 12ms/step - loss: 0.3478 - accuracy: 0.8636 - val_loss: 0.4615 - val_accuracy: 0.7865\n",
            "Epoch 8/50\n",
            "49/49 [==============================] - 0s 9ms/step - loss: 0.2761 - accuracy: 0.8987 - val_loss: 0.2801 - val_accuracy: 0.9062\n",
            "Epoch 9/50\n",
            "49/49 [==============================] - 0s 10ms/step - loss: 0.2202 - accuracy: 0.9221 - val_loss: 0.2299 - val_accuracy: 0.9167\n",
            "Epoch 10/50\n",
            "49/49 [==============================] - 0s 9ms/step - loss: 0.1736 - accuracy: 0.9396 - val_loss: 0.1913 - val_accuracy: 0.9401\n",
            "Epoch 11/50\n",
            "49/49 [==============================] - 1s 12ms/step - loss: 0.1299 - accuracy: 0.9597 - val_loss: 0.1451 - val_accuracy: 0.9583\n",
            "Epoch 12/50\n",
            "49/49 [==============================] - 1s 10ms/step - loss: 0.0975 - accuracy: 0.9766 - val_loss: 0.1095 - val_accuracy: 0.9740\n",
            "Epoch 13/50\n",
            "49/49 [==============================] - 0s 10ms/step - loss: 0.0673 - accuracy: 0.9864 - val_loss: 0.0904 - val_accuracy: 0.9844\n",
            "Epoch 14/50\n",
            "49/49 [==============================] - 0s 10ms/step - loss: 0.0486 - accuracy: 0.9922 - val_loss: 0.0415 - val_accuracy: 0.9896\n",
            "Epoch 15/50\n",
            "49/49 [==============================] - 0s 10ms/step - loss: 0.0315 - accuracy: 0.9961 - val_loss: 0.0334 - val_accuracy: 0.9922\n",
            "Epoch 16/50\n",
            "49/49 [==============================] - 1s 11ms/step - loss: 0.0187 - accuracy: 0.9987 - val_loss: 0.0156 - val_accuracy: 1.0000\n",
            "Epoch 17/50\n",
            "49/49 [==============================] - 0s 10ms/step - loss: 0.0130 - accuracy: 0.9994 - val_loss: 0.0112 - val_accuracy: 1.0000\n",
            "Epoch 18/50\n",
            "49/49 [==============================] - 1s 10ms/step - loss: 0.0089 - accuracy: 1.0000 - val_loss: 0.0085 - val_accuracy: 1.0000\n",
            "Epoch 19/50\n",
            "49/49 [==============================] - 0s 10ms/step - loss: 0.0066 - accuracy: 1.0000 - val_loss: 0.0071 - val_accuracy: 1.0000\n",
            "Epoch 20/50\n",
            "49/49 [==============================] - 0s 10ms/step - loss: 0.0056 - accuracy: 1.0000 - val_loss: 0.0050 - val_accuracy: 1.0000\n",
            "Epoch 21/50\n",
            "49/49 [==============================] - 0s 9ms/step - loss: 0.0042 - accuracy: 1.0000 - val_loss: 0.0039 - val_accuracy: 1.0000\n",
            "Epoch 22/50\n",
            "49/49 [==============================] - 1s 11ms/step - loss: 0.0034 - accuracy: 1.0000 - val_loss: 0.0033 - val_accuracy: 1.0000\n",
            "Epoch 23/50\n",
            "49/49 [==============================] - 0s 9ms/step - loss: 0.0028 - accuracy: 1.0000 - val_loss: 0.0027 - val_accuracy: 1.0000\n",
            "Epoch 24/50\n",
            "49/49 [==============================] - 0s 9ms/step - loss: 0.0024 - accuracy: 1.0000 - val_loss: 0.0023 - val_accuracy: 1.0000\n",
            "Epoch 25/50\n",
            "49/49 [==============================] - 0s 10ms/step - loss: 0.0020 - accuracy: 1.0000 - val_loss: 0.0023 - val_accuracy: 1.0000\n",
            "Epoch 26/50\n",
            "49/49 [==============================] - 0s 9ms/step - loss: 0.0017 - accuracy: 1.0000 - val_loss: 0.0019 - val_accuracy: 1.0000\n",
            "Epoch 27/50\n",
            "49/49 [==============================] - 0s 9ms/step - loss: 0.0015 - accuracy: 1.0000 - val_loss: 0.0015 - val_accuracy: 1.0000\n",
            "Epoch 28/50\n",
            "49/49 [==============================] - 1s 11ms/step - loss: 0.0013 - accuracy: 1.0000 - val_loss: 0.0014 - val_accuracy: 1.0000\n",
            "Epoch 29/50\n",
            "49/49 [==============================] - 0s 10ms/step - loss: 0.0012 - accuracy: 1.0000 - val_loss: 0.0012 - val_accuracy: 1.0000\n",
            "Epoch 30/50\n",
            "49/49 [==============================] - 0s 9ms/step - loss: 0.0010 - accuracy: 1.0000 - val_loss: 0.0011 - val_accuracy: 1.0000\n",
            "Epoch 31/50\n",
            "49/49 [==============================] - 0s 10ms/step - loss: 9.3433e-04 - accuracy: 1.0000 - val_loss: 0.0010 - val_accuracy: 1.0000\n",
            "Epoch 32/50\n",
            "49/49 [==============================] - 0s 9ms/step - loss: 8.1534e-04 - accuracy: 1.0000 - val_loss: 8.9055e-04 - val_accuracy: 1.0000\n",
            "Epoch 33/50\n",
            "49/49 [==============================] - 0s 9ms/step - loss: 7.5743e-04 - accuracy: 1.0000 - val_loss: 7.8946e-04 - val_accuracy: 1.0000\n",
            "Epoch 34/50\n",
            "49/49 [==============================] - 0s 9ms/step - loss: 6.5557e-04 - accuracy: 1.0000 - val_loss: 7.1693e-04 - val_accuracy: 1.0000\n",
            "Epoch 35/50\n",
            "49/49 [==============================] - 1s 12ms/step - loss: 6.0525e-04 - accuracy: 1.0000 - val_loss: 6.5145e-04 - val_accuracy: 1.0000\n",
            "Epoch 36/50\n",
            "49/49 [==============================] - 0s 9ms/step - loss: 5.5294e-04 - accuracy: 1.0000 - val_loss: 5.9589e-04 - val_accuracy: 1.0000\n",
            "Epoch 37/50\n",
            "49/49 [==============================] - 0s 9ms/step - loss: 5.1776e-04 - accuracy: 1.0000 - val_loss: 5.6294e-04 - val_accuracy: 1.0000\n",
            "Epoch 38/50\n",
            "49/49 [==============================] - 0s 10ms/step - loss: 4.7095e-04 - accuracy: 1.0000 - val_loss: 5.0938e-04 - val_accuracy: 1.0000\n",
            "Epoch 39/50\n",
            "49/49 [==============================] - 1s 11ms/step - loss: 4.3044e-04 - accuracy: 1.0000 - val_loss: 4.6881e-04 - val_accuracy: 1.0000\n",
            "Epoch 40/50\n",
            "49/49 [==============================] - 1s 13ms/step - loss: 3.9931e-04 - accuracy: 1.0000 - val_loss: 4.3303e-04 - val_accuracy: 1.0000\n",
            "Epoch 41/50\n",
            "49/49 [==============================] - 1s 13ms/step - loss: 3.6780e-04 - accuracy: 1.0000 - val_loss: 4.0760e-04 - val_accuracy: 1.0000\n",
            "Epoch 42/50\n",
            "49/49 [==============================] - 0s 10ms/step - loss: 3.4517e-04 - accuracy: 1.0000 - val_loss: 3.7417e-04 - val_accuracy: 1.0000\n",
            "Epoch 43/50\n",
            "49/49 [==============================] - 1s 12ms/step - loss: 3.1670e-04 - accuracy: 1.0000 - val_loss: 3.4539e-04 - val_accuracy: 1.0000\n",
            "Epoch 44/50\n",
            "49/49 [==============================] - 1s 11ms/step - loss: 2.9353e-04 - accuracy: 1.0000 - val_loss: 3.2443e-04 - val_accuracy: 1.0000\n",
            "Epoch 45/50\n",
            "49/49 [==============================] - 1s 11ms/step - loss: 2.7460e-04 - accuracy: 1.0000 - val_loss: 3.1450e-04 - val_accuracy: 1.0000\n",
            "Epoch 46/50\n",
            "49/49 [==============================] - 1s 14ms/step - loss: 2.5952e-04 - accuracy: 1.0000 - val_loss: 2.8895e-04 - val_accuracy: 1.0000\n",
            "Epoch 47/50\n",
            "13/49 [======>.......................] - ETA: 0s - loss: 2.4377e-04 - accuracy: 1.0000"
          ]
        }
      ],
      "source": [
        "# Apply Early Stopping\n",
        "callback = tf.keras.callbacks.EarlyStopping(monitor='loss', patience=3)\n",
        "\n",
        "# Fit the final model\n",
        "epochs = 50\n",
        "history = model.fit(train_ds, validation_data = val_ds, epochs = epochs, callbacks = [callback])"
      ]
    },
    {
      "cell_type": "code",
      "execution_count": null,
      "metadata": {
        "id": "wWHmxIHFTdd8",
        "outputId": "616e96d1-3b6d-4d22-83c3-d2c44e714761"
      },
      "outputs": [
        {
          "data": {
            "image/png": "[encoded data removed]",
            "text/plain": [
              "<Figure size 576x576 with 2 Axes>"
            ]
          },
          "metadata": {},
          "output_type": "display_data"
        }
      ],
      "source": [
        "acc = history.history['accuracy']\n",
        "val_acc = history.history['val_accuracy']\n",
        "\n",
        "loss = history.history['loss']\n",
        "val_loss = history.history['val_loss']\n",
        "\n",
        "epochs_range = range(epochs)\n",
        "\n",
        "plt.figure(figsize=(20, 10))\n",
        "plt.subplot(1, 2, 1)\n",
        "plt.plot(epochs_range, acc, label='Training Accuracy')\n",
        "plt.plot(epochs_range, val_acc, label='Validation Accuracy')\n",
        "plt.legend(loc='lower right')\n",
        "plt.title('Training and Validation Accuracy')\n",
        "\n",
        "plt.subplot(1, 2, 2)\n",
        "plt.plot(epochs_range, loss, label='Training Loss')\n",
        "plt.plot(epochs_range, val_loss, label='Validation Loss')\n",
        "plt.legend(loc='upper right')\n",
        "plt.title('Training and Validation Loss')\n",
        "plt.show()"
      ]
    }
  ],
  "metadata": {
    "colab": {
      "provenance": []
    },
    "interpreter": {
      "hash": "f75803d671a1f9d70554604a5c5fa264c6350411b0bbde11a941cb26fc58101e"
    },
    "kernelspec": {
      "display_name": "Python 3 (ipykernel)",
      "language": "python",
      "name": "python3"
    },
    "language_info": {
      "codemirror_mode": {
        "name": "ipython",
        "version": 3
      },
      "file_extension": ".py",
      "mimetype": "text/x-python",
      "name": "python",
      "nbconvert_exporter": "python",
      "pygments_lexer": "ipython3",
      "version": "3.8.11"
    }
  },
  "nbformat": 4,
  "nbformat_minor": 0
}